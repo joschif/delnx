{
 "cells": [
  {
   "cell_type": "markdown",
   "id": "9ea1f360-ad9c-4584-9701-1b7adf2e531b",
   "metadata": {},
   "source": [
    "# Tutorial - Run DE on simulated data"
   ]
  },
  {
   "cell_type": "code",
   "execution_count": 1,
   "id": "63c8a654-24ab-4575-abe7-08d42269874d",
   "metadata": {},
   "outputs": [],
   "source": [
    "%load_ext autoreload\n",
    "%autoreload 2"
   ]
  },
  {
   "cell_type": "code",
   "execution_count": 2,
   "id": "225d0cc6-0c7f-4cd1-8655-eb82539e6123",
   "metadata": {},
   "outputs": [],
   "source": [
    "import os\n",
    "import numpy as np\n",
    "import pandas as pd\n",
    "import anndata as ad\n",
    "import scanpy as sc\n",
    "import delnx as dx"
   ]
  },
  {
   "cell_type": "code",
   "execution_count": 3,
   "id": "4bb1050b-f6ad-43bd-a252-fce593be54a5",
   "metadata": {},
   "outputs": [],
   "source": [
    "import plotly.io as pio\n",
    "pio.renderers.default = 'iframe'"
   ]
  },
  {
   "cell_type": "code",
   "execution_count": 4,
   "id": "7b8bd292-ae78-45b7-880c-c41df2dbee12",
   "metadata": {},
   "outputs": [],
   "source": [
    "def adata_small():\n",
    "    \"\"\"Create small test data for testing on the single-cell level.\"\"\"\n",
    "    # Use our synthetic data generator with adjusted parameters\n",
    "    n_cells = 1000\n",
    "    n_genes = 500\n",
    "    n_samples = 2\n",
    "\n",
    "    adata = dx.ds.synthetic_adata(\n",
    "        n_cells=n_cells,\n",
    "        n_genes=n_genes,\n",
    "        n_cell_types=3,\n",
    "        n_de_genes=100,\n",
    "        mean_counts=20,\n",
    "        dispersion=0.3,\n",
    "        dropout_rate=0.3,\n",
    "        n_samples=n_samples,\n",
    "        random_seed=42,\n",
    "    )\n",
    "\n",
    "    # Add some additional metadata for testing\n",
    "    adata.obs[\"continuous_covar\"] = np.random.normal(size=adata.n_obs)\n",
    "    adata.layers[\"binary\"] = adata.X.copy()\n",
    "    adata.layers[\"binary\"] = (adata.layers[\"binary\"] > 0).astype(int)\n",
    "\n",
    "    return adata"
   ]
  },
  {
   "cell_type": "code",
   "execution_count": 5,
   "id": "b87f1835-493b-48d3-b3f2-19aa0230be24",
   "metadata": {},
   "outputs": [],
   "source": [
    "adata = adata_small()"
   ]
  },
  {
   "cell_type": "code",
   "execution_count": 6,
   "id": "80f8372b-fea9-4f06-b527-c951911d871e",
   "metadata": {},
   "outputs": [
    {
     "name": "stdout",
     "output_type": "stream",
     "text": [
      "Using specified data type: binary\n",
      "500 features passed log2fc threshold of 0.0\n"
     ]
    },
    {
     "name": "stderr",
     "output_type": "stream",
     "text": [
      "100%|██████████| 500/500 [00:02<00:00, 171.82it/s]\n",
      "INFO:2025-06-20 16:49:34,903:jax._src.xla_bridge:752: Unable to initialize backend 'tpu': INTERNAL: Failed to open libtpu.so: libtpu.so: cannot open shared object file: No such file or directory\n",
      "2025-06-20 16:49:34 | [INFO] Unable to initialize backend 'tpu': INTERNAL: Failed to open libtpu.so: libtpu.so: cannot open shared object file: No such file or directory\n",
      "WARNING:2025-06-20 16:49:34,904:jax._src.xla_bridge:794: An NVIDIA GPU may be present on this machine, but a CUDA-enabled jaxlib is not installed. Falling back to cpu.\n",
      "2025-06-20 16:49:34 | [WARNING] An NVIDIA GPU may be present on this machine, but a CUDA-enabled jaxlib is not installed. Falling back to cpu.\n"
     ]
    }
   ],
   "source": [
    "de_results = dx.tl.de(\n",
    "        adata,\n",
    "        condition_key=\"condition\",\n",
    "        method=\"binomial\",\n",
    "        backend=\"statsmodels\",\n",
    "        reference=\"control\",\n",
    "        data_type=\"binary\",\n",
    "        layer=\"binary\",\n",
    "        log2fc_threshold=0.0,\n",
    "    )"
   ]
  },
  {
   "cell_type": "code",
   "execution_count": 7,
   "id": "99d4bf84-82d7-42ed-943b-c72226214ea1",
   "metadata": {},
   "outputs": [],
   "source": [
    "dx.pp.label_de_genes(de_results)"
   ]
  },
  {
   "cell_type": "code",
   "execution_count": 8,
   "id": "4c4d4980-a05b-4d36-9ea2-288750d5df02",
   "metadata": {},
   "outputs": [],
   "source": [
    "top_up, top_down = dx.pp.get_top_de_genes(de_results, top_n=20)"
   ]
  },
  {
   "cell_type": "code",
   "execution_count": 9,
   "id": "b3af5d60-4e37-49c6-a0a7-07a0b56380ee",
   "metadata": {},
   "outputs": [],
   "source": [
    "#dx.pl.volcanoplot(de_results)"
   ]
  },
  {
   "cell_type": "code",
   "execution_count": 10,
   "id": "e7276298-ccf9-4e66-8aaa-3100348ff7c7",
   "metadata": {},
   "outputs": [],
   "source": [
    "var_names = top_up + top_down"
   ]
  },
  {
   "cell_type": "code",
   "execution_count": 11,
   "id": "3c1b9f85-099b-4c74-ba22-0e1287c48776",
   "metadata": {},
   "outputs": [],
   "source": [
    "import matplotlib.pyplot as plt\n",
    "from delnx.pl import volcanoplot, matrixplot"
   ]
  },
  {
   "cell_type": "code",
   "execution_count": 12,
   "id": "a8e0cab3-481c-4e1f-b48f-21c4b7968e49",
   "metadata": {},
   "outputs": [
    {
     "name": "stderr",
     "output_type": "stream",
     "text": [
      "... storing 'cell_type' as categorical\n",
      "... storing 'condition' as categorical\n",
      "... storing 'sample' as categorical\n",
      "... storing 'condition_sample' as categorical\n"
     ]
    },
    {
     "name": "stdout",
     "output_type": "stream",
     "text": [
      "                         condition    cell_type\n",
      "control | cell_type_0      control  cell_type_0\n",
      "control | cell_type_1      control  cell_type_1\n",
      "control | cell_type_2      control  cell_type_2\n",
      "treatment | cell_type_0  treatment  cell_type_0\n",
      "treatment | cell_type_1  treatment  cell_type_1\n",
      "treatment | cell_type_2  treatment  cell_type_2\n"
     ]
    }
   ],
   "source": [
    "fig = dx.pl.matrixplot(\n",
    "        adata,\n",
    "        var_names=var_names,\n",
    "        groupby=[\"condition\", \"cell_type\"],\n",
    "        layer=\"binary\",\n",
    "        cmap=\"viridis\",\n",
    "        standard_scale=\"var\",\n",
    "        vmin=0,\n",
    "        vmax=1,\n",
    "        return_fig=True,  # required for testability\n",
    "        show=False,       # prevent blocking\n",
    "        dendrogram=False\n",
    "    )"
   ]
  },
  {
   "cell_type": "code",
   "execution_count": 13,
   "id": "a4140a47-bb93-4308-83af-5c75d6ec1903",
   "metadata": {},
   "outputs": [
    {
     "name": "stdout",
     "output_type": "stream",
     "text": [
      "WARNING: dendrogram data not found (using key=dendrogram_condition_cell_type). Running `sc.tl.dendrogram` with default parameters. For fine tuning it is recommended to run `sc.tl.dendrogram` independently.\n"
     ]
    },
    {
     "name": "stderr",
     "output_type": "stream",
     "text": [
      "/pmount/projects/site/pred/ihb-g-deco/USERS/adaml9/delnx/src/delnx/tl/_dendrogram.py:106: UserWarning:\n",
      "\n",
      "You’re trying to run this on 500 dimensions of `.X`, if you really want this, set `use_rep='X'`.\n",
      "         Falling back to preprocessing with `sc.pp.pca` and default params.\n",
      "\n"
     ]
    },
    {
     "data": {
      "image/png": "[encoded data removed]",
      "text/plain": [
       "<Figure size 1149x310 with 5 Axes>"
      ]
     },
     "metadata": {},
     "output_type": "display_data"
    }
   ],
   "source": [
    "fig.show()"
   ]
  }
 ],
 "metadata": {
  "kernelspec": {
   "display_name": "Python 3.13 - delnx",
   "language": "python",
   "name": "delnx"
  },
  "language_info": {
   "codemirror_mode": {
    "name": "ipython",
    "version": 3
   },
   "file_extension": ".py",
   "mimetype": "text/x-python",
   "name": "python",
   "nbconvert_exporter": "python",
   "pygments_lexer": "ipython3",
   "version": "3.13.5"
  }
 },
 "nbformat": 4,
 "nbformat_minor": 5
}
